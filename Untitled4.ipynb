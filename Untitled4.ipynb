{
  "nbformat": 4,
  "nbformat_minor": 0,
  "metadata": {
    "colab": {
      "name": "Untitled4.ipynb",
      "provenance": [],
      "authorship_tag": "ABX9TyP4d871cvf4wbUXCQh/icCa",
      "include_colab_link": true
    },
    "kernelspec": {
      "name": "python3",
      "display_name": "Python 3"
    }
  },
  "cells": [
    {
      "cell_type": "markdown",
      "metadata": {
        "id": "view-in-github",
        "colab_type": "text"
      },
      "source": [
        "<a href=\"https://colab.research.google.com/github/sahilsin/new/blob/master/Untitled4.ipynb\" target=\"_parent\"><img src=\"https://colab.research.google.com/assets/colab-badge.svg\" alt=\"Open In Colab\"/></a>"
      ]
    },
    {
      "cell_type": "code",
      "metadata": {
        "colab": {
          "base_uri": "https://localhost:8080/"
        },
        "id": "Ky6JRtvfSIsy",
        "outputId": "59552b83-5dbd-4d40-ef6f-07e3410b85f7"
      },
      "source": [
        "!git clone http://github.com/sahilsin/new.git"
      ],
      "execution_count": null,
      "outputs": [
        {
          "output_type": "stream",
          "text": [
            "Cloning into 'new'...\n",
            "warning: redirecting to https://github.com/sahilsin/new.git/\n",
            "remote: Enumerating objects: 6, done.\u001b[K\n",
            "remote: Counting objects: 100% (6/6), done.\u001b[K\n",
            "remote: Compressing objects: 100% (3/3), done.\u001b[K\n",
            "remote: Total 6 (delta 0), reused 0 (delta 0), pack-reused 0\u001b[K\n",
            "Unpacking objects: 100% (6/6), done.\n"
          ],
          "name": "stdout"
        }
      ]
    },
    {
      "cell_type": "code",
      "metadata": {
        "colab": {
          "base_uri": "https://localhost:8080/"
        },
        "id": "4BFKX61mSNUP",
        "outputId": "3b18d965-743b-48bd-a11a-8c4a7e7e847d"
      },
      "source": [
        "\n",
        "!git add -\"C/file\""
      ],
      "execution_count": null,
      "outputs": [
        {
          "output_type": "stream",
          "text": [
            "error: unknown switch `C'\n",
            "usage: git add [<options>] [--] <pathspec>...\n",
            "\n",
            "    -n, --dry-run         dry run\n",
            "    -v, --verbose         be verbose\n",
            "\n",
            "    -i, --interactive     interactive picking\n",
            "    -p, --patch           select hunks interactively\n",
            "    -e, --edit            edit current diff and apply\n",
            "    -f, --force           allow adding otherwise ignored files\n",
            "    -u, --update          update tracked files\n",
            "    --renormalize         renormalize EOL of tracked files (implies -u)\n",
            "    -N, --intent-to-add   record only the fact that the path will be added later\n",
            "    -A, --all             add changes from all tracked and untracked files\n",
            "    --ignore-removal      ignore paths removed in the working tree (same as --no-all)\n",
            "    --refresh             don't add, only refresh the index\n",
            "    --ignore-errors       just skip files which cannot be added because of errors\n",
            "    --ignore-missing      check if - even missing - files are ignored in dry run\n",
            "    --chmod <(+/-)x>      override the executable bit of the listed files\n",
            "\n"
          ],
          "name": "stdout"
        }
      ]
    },
    {
      "cell_type": "code",
      "metadata": {
        "id": "efiMMtjtSfG0"
      },
      "source": [
        "!git add -A"
      ],
      "execution_count": null,
      "outputs": []
    },
    {
      "cell_type": "code",
      "metadata": {
        "colab": {
          "base_uri": "https://localhost:8080/"
        },
        "id": "z0W0jVCOSzyc",
        "outputId": "b56152bf-5c15-429f-e5a3-9982363e59df"
      },
      "source": [
        "!git remote add origin https://<sahilsin>:<Sks936816>@github.com/<sahilsin>/xx.git"
      ],
      "execution_count": null,
      "outputs": [
        {
          "output_type": "stream",
          "text": [
            "/bin/bash: sahilsin: No such file or directory\n"
          ],
          "name": "stdout"
        }
      ]
    },
    {
      "cell_type": "code",
      "metadata": {
        "id": "7cXJCjdATX5c"
      },
      "source": [
        ""
      ],
      "execution_count": null,
      "outputs": []
    }
  ]
}